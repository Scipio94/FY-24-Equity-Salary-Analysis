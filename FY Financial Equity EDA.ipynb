{
 "cells": [
  {
   "cell_type": "markdown",
   "id": "a41b0988",
   "metadata": {},
   "source": [
    "# Salary Exploratory Data Analysis"
   ]
  },
  {
   "cell_type": "code",
   "execution_count": 1,
   "id": "bf5b441b",
   "metadata": {},
   "outputs": [],
   "source": [
    "#Importing packages\n",
    "import pandas as pd\n",
    "import matplotlib.pyplot as plt\n",
    "import datetime as dt"
   ]
  },
  {
   "cell_type": "markdown",
   "id": "89651e17",
   "metadata": {},
   "source": [
    "### Resources\n",
    "\n",
    "Connecting Google Sheet to Jupyter Notebook [HERE](https://youtu.be/9PojbQ1z1to?feature=shared)"
   ]
  },
  {
   "cell_type": "code",
   "execution_count": 2,
   "id": "2f360f4a",
   "metadata": {},
   "outputs": [],
   "source": [
    "#Importing salary and length of employment data\n",
    "\n",
    "# https://docs.google.com/spreadsheets/d/1OjyBdsyUS580Ku83uadnOUV4sRHQIBOuHLLmgeW4EVk/edit#gid=72198648\n",
    "\n",
    "sheet_id = '1OjyBdsyUS580Ku83uadnOUV4sRHQIBOuHLLmgeW4EVk' # <- creating sheet id object\n",
    "xls = pd.ExcelFile(f'https://docs.google.com/spreadsheets/d/{sheet_id}/export?format=xlsx') #<- creating xls object \n",
    "df = pd.read_excel(xls,'Remaining Salaries') # <- importing sheet using xls object\n",
    "df1 = pd.read_csv(f'/Users/scipio/Downloads/FY 24 Position Control - Position Control Sheet Mar.csv', parse_dates = ['Start Date'])\n",
    "df1 = df1[['Position ID','Start Date']] # <- subsetting dataset\n",
    "df = df.merge(df1, on = 'Position ID', how = 'left') # <- merging datasets on the Position ID column"
   ]
  },
  {
   "cell_type": "code",
   "execution_count": 3,
   "id": "234f2b20",
   "metadata": {},
   "outputs": [
    {
     "name": "stdout",
     "output_type": "stream",
     "text": [
      "<class 'pandas.core.frame.DataFrame'>\n",
      "Int64Index: 255 entries, 0 to 254\n",
      "Data columns (total 15 columns):\n",
      " #   Column                   Non-Null Count  Dtype         \n",
      "---  ------                   --------------  -----         \n",
      " 0   Position ID              255 non-null    object        \n",
      " 1   Legal First Name         255 non-null    object        \n",
      " 2   Legal Last Name          255 non-null    object        \n",
      " 3   Annual Salary Amount     241 non-null    float64       \n",
      " 4   Regular Pay Rate Amount  255 non-null    float64       \n",
      " 5   Unnamed: 5               248 non-null    float64       \n",
      " 6   Hourly Adjustment        255 non-null    int64         \n",
      " 7   Remaining Pay Periods    255 non-null    int64         \n",
      " 8   Percentage               255 non-null    float64       \n",
      " 9   Department Description   255 non-null    object        \n",
      " 10  Home Department Code     255 non-null    int64         \n",
      " 11  Employee Group           255 non-null    int64         \n",
      " 12  Budget Line              255 non-null    object        \n",
      " 13  Remaing Salary           255 non-null    float64       \n",
      " 14  Start Date               250 non-null    datetime64[ns]\n",
      "dtypes: datetime64[ns](1), float64(5), int64(4), object(5)\n",
      "memory usage: 31.9+ KB\n"
     ]
    }
   ],
   "source": [
    "df.info()"
   ]
  },
  {
   "cell_type": "code",
   "execution_count": 4,
   "id": "71a7e315",
   "metadata": {},
   "outputs": [
    {
     "name": "stdout",
     "output_type": "stream",
     "text": [
      "<class 'pandas.core.frame.DataFrame'>\n",
      "Int64Index: 148 entries, 7 to 254\n",
      "Data columns (total 5 columns):\n",
      " #   Column                Non-Null Count  Dtype         \n",
      "---  ------                --------------  -----         \n",
      " 0   Position ID           148 non-null    object        \n",
      " 1   Legal First Name      148 non-null    object        \n",
      " 2   Legal Last Name       148 non-null    object        \n",
      " 3   Annual Salary Amount  148 non-null    float64       \n",
      " 4   Start Date            145 non-null    datetime64[ns]\n",
      "dtypes: datetime64[ns](1), float64(1), object(3)\n",
      "memory usage: 6.9+ KB\n"
     ]
    }
   ],
   "source": [
    "#Data Cleaning\n",
    "df['Annual Salary Amount'] = df['Annual Salary Amount'].replace('-','0') # <- replacing string values with 0\n",
    "df['Annual Salary Amount'] = pd.to_numeric(df['Annual Salary Amount']) # <- chaning data type\n",
    "EDA = df[df['Annual Salary Amount']>0] # <- filtering to return salaried emplpoyees \n",
    "\n",
    "EDA = EDA[~EDA['Position ID'].duplicated()] # <- filtering out duplicates\n",
    "EDA = EDA[['Position ID','Legal First Name','Legal Last Name','Annual Salary Amount','Start Date']] # <- Subsetting relevant columns\n",
    "\n",
    "EDA.info()"
   ]
  },
  {
   "cell_type": "code",
   "execution_count": 5,
   "id": "6bc47888",
   "metadata": {},
   "outputs": [],
   "source": [
    "#Calculating Length of Employment\n",
    "EDA['Current Month'] = dt.datetime(2024,3,31) # <- Creating datetime object for March 31, 2024\n",
    "EDA['Employment Length (Years)'] = round((EDA['Current Month'] - EDA['Start Date']).dt.days / 365.25,2) # <- Calculatin length of employment in years"
   ]
  },
  {
   "cell_type": "code",
   "execution_count": 6,
   "id": "5e5dc7a5",
   "metadata": {},
   "outputs": [
    {
     "data": {
      "text/html": [
       "<div>\n",
       "<style scoped>\n",
       "    .dataframe tbody tr th:only-of-type {\n",
       "        vertical-align: middle;\n",
       "    }\n",
       "\n",
       "    .dataframe tbody tr th {\n",
       "        vertical-align: top;\n",
       "    }\n",
       "\n",
       "    .dataframe thead th {\n",
       "        text-align: right;\n",
       "    }\n",
       "</style>\n",
       "<table border=\"1\" class=\"dataframe\">\n",
       "  <thead>\n",
       "    <tr style=\"text-align: right;\">\n",
       "      <th></th>\n",
       "      <th>Position ID</th>\n",
       "      <th>Legal First Name</th>\n",
       "      <th>Legal Last Name</th>\n",
       "      <th>Annual Salary Amount</th>\n",
       "      <th>Start Date</th>\n",
       "      <th>Current Month</th>\n",
       "      <th>Employment Length (Years)</th>\n",
       "    </tr>\n",
       "  </thead>\n",
       "  <tbody>\n",
       "    <tr>\n",
       "      <th>7</th>\n",
       "      <td>33T000055</td>\n",
       "      <td>Johanna</td>\n",
       "      <td>Soto</td>\n",
       "      <td>102100.68</td>\n",
       "      <td>2009-08-31</td>\n",
       "      <td>2024-03-31</td>\n",
       "      <td>14.58</td>\n",
       "    </tr>\n",
       "    <tr>\n",
       "      <th>8</th>\n",
       "      <td>33T000063</td>\n",
       "      <td>Sheria</td>\n",
       "      <td>McRae</td>\n",
       "      <td>187250.00</td>\n",
       "      <td>2010-08-02</td>\n",
       "      <td>2024-03-31</td>\n",
       "      <td>13.66</td>\n",
       "    </tr>\n",
       "    <tr>\n",
       "      <th>9</th>\n",
       "      <td>33T000068</td>\n",
       "      <td>Christian</td>\n",
       "      <td>Torino</td>\n",
       "      <td>96389.00</td>\n",
       "      <td>2010-08-02</td>\n",
       "      <td>2024-03-31</td>\n",
       "      <td>13.66</td>\n",
       "    </tr>\n",
       "    <tr>\n",
       "      <th>10</th>\n",
       "      <td>33T000079</td>\n",
       "      <td>Jacqueline</td>\n",
       "      <td>Hicks-Martinez</td>\n",
       "      <td>70366.55</td>\n",
       "      <td>2011-05-16</td>\n",
       "      <td>2024-03-31</td>\n",
       "      <td>12.88</td>\n",
       "    </tr>\n",
       "    <tr>\n",
       "      <th>14</th>\n",
       "      <td>33T000092</td>\n",
       "      <td>Isabel</td>\n",
       "      <td>Goss</td>\n",
       "      <td>125000.00</td>\n",
       "      <td>2011-08-01</td>\n",
       "      <td>2024-03-31</td>\n",
       "      <td>12.67</td>\n",
       "    </tr>\n",
       "  </tbody>\n",
       "</table>\n",
       "</div>"
      ],
      "text/plain": [
       "   Position ID Legal First Name Legal Last Name  Annual Salary Amount  \\\n",
       "7    33T000055          Johanna            Soto             102100.68   \n",
       "8    33T000063           Sheria           McRae             187250.00   \n",
       "9    33T000068        Christian          Torino              96389.00   \n",
       "10   33T000079       Jacqueline  Hicks-Martinez              70366.55   \n",
       "14   33T000092           Isabel            Goss             125000.00   \n",
       "\n",
       "   Start Date Current Month  Employment Length (Years)  \n",
       "7  2009-08-31    2024-03-31                      14.58  \n",
       "8  2010-08-02    2024-03-31                      13.66  \n",
       "9  2010-08-02    2024-03-31                      13.66  \n",
       "10 2011-05-16    2024-03-31                      12.88  \n",
       "14 2011-08-01    2024-03-31                      12.67  "
      ]
     },
     "execution_count": 6,
     "metadata": {},
     "output_type": "execute_result"
    }
   ],
   "source": [
    "EDA.head()"
   ]
  },
  {
   "cell_type": "code",
   "execution_count": 7,
   "id": "d78c7b96",
   "metadata": {},
   "outputs": [
    {
     "data": {
      "text/html": [
       "<div>\n",
       "<style scoped>\n",
       "    .dataframe tbody tr th:only-of-type {\n",
       "        vertical-align: middle;\n",
       "    }\n",
       "\n",
       "    .dataframe tbody tr th {\n",
       "        vertical-align: top;\n",
       "    }\n",
       "\n",
       "    .dataframe thead th {\n",
       "        text-align: right;\n",
       "    }\n",
       "</style>\n",
       "<table border=\"1\" class=\"dataframe\">\n",
       "  <thead>\n",
       "    <tr style=\"text-align: right;\">\n",
       "      <th></th>\n",
       "      <th>Annual Salary Amount</th>\n",
       "      <th>Employment Length (Years)</th>\n",
       "    </tr>\n",
       "  </thead>\n",
       "  <tbody>\n",
       "    <tr>\n",
       "      <th>count</th>\n",
       "      <td>148.00</td>\n",
       "      <td>145.00</td>\n",
       "    </tr>\n",
       "    <tr>\n",
       "      <th>mean</th>\n",
       "      <td>78004.83</td>\n",
       "      <td>3.49</td>\n",
       "    </tr>\n",
       "    <tr>\n",
       "      <th>std</th>\n",
       "      <td>26904.53</td>\n",
       "      <td>3.64</td>\n",
       "    </tr>\n",
       "    <tr>\n",
       "      <th>min</th>\n",
       "      <td>34000.00</td>\n",
       "      <td>0.02</td>\n",
       "    </tr>\n",
       "    <tr>\n",
       "      <th>25%</th>\n",
       "      <td>57895.31</td>\n",
       "      <td>0.74</td>\n",
       "    </tr>\n",
       "    <tr>\n",
       "      <th>50%</th>\n",
       "      <td>72875.00</td>\n",
       "      <td>1.93</td>\n",
       "    </tr>\n",
       "    <tr>\n",
       "      <th>75%</th>\n",
       "      <td>95265.00</td>\n",
       "      <td>4.41</td>\n",
       "    </tr>\n",
       "    <tr>\n",
       "      <th>max</th>\n",
       "      <td>187250.00</td>\n",
       "      <td>14.58</td>\n",
       "    </tr>\n",
       "  </tbody>\n",
       "</table>\n",
       "</div>"
      ],
      "text/plain": [
       "       Annual Salary Amount  Employment Length (Years)\n",
       "count                148.00                     145.00\n",
       "mean               78004.83                       3.49\n",
       "std                26904.53                       3.64\n",
       "min                34000.00                       0.02\n",
       "25%                57895.31                       0.74\n",
       "50%                72875.00                       1.93\n",
       "75%                95265.00                       4.41\n",
       "max               187250.00                      14.58"
      ]
     },
     "execution_count": 7,
     "metadata": {},
     "output_type": "execute_result"
    }
   ],
   "source": [
    "#Statistical Annual Metrics\n",
    "round(EDA.describe(),2)"
   ]
  },
  {
   "cell_type": "code",
   "execution_count": 8,
   "id": "c1bdb288",
   "metadata": {},
   "outputs": [
    {
     "data": {
      "image/png": "[encoded data removed]",
      "text/plain": [
       "<Figure size 1000x1000 with 4 Axes>"
      ]
     },
     "metadata": {},
     "output_type": "display_data"
    }
   ],
   "source": [
    "fig,axs = plt.subplots(nrows = 2, ncols = 2, figsize = (10,10)) # <- Subplot figure \n",
    "\n",
    "\n",
    "#Annual Salary Distribution\n",
    "EDA['Annual Salary Amount'].plot(kind = 'hist', title = 'Salary Histogram', ax = axs[0,0]) # <- Salary histogram\n",
    "EDA['Employment Length (Years)'].plot(kind = 'hist', title = 'Employment Length Histogram', ax = axs[0,1]) # <- Employment Length Histogram\n",
    "EDA['Annual Salary Amount'].plot(kind = 'box', ax = axs[1,0], title = 'Salary Boxplot') # <- Salary Boxplot\n",
    "EDA['Employment Length (Years)'].plot(kind = 'box', ax = axs[1,1], title = 'Employment Length Boxplot') # <- Employment Length Boxplot \n",
    "plt.show()"
   ]
  },
  {
   "cell_type": "markdown",
   "id": "4c53bb5b",
   "metadata": {},
   "source": [
    "Both the Salary and Employment Length histograms both have a right skew which indicates that the mean is higher than the median due to outliers superficially inflating both the average salary amount and employment length at the organization. In addition to the right skew of both histograms, there are several outliers indicated in each boxplot."
   ]
  },
  {
   "cell_type": "code",
   "execution_count": 9,
   "id": "895635df",
   "metadata": {
    "scrolled": true
   },
   "outputs": [
    {
     "name": "stdout",
     "output_type": "stream",
     "text": [
      "Employees with a salary greater than or eqaul to $151,319.53125 have an Annual Salary Amount that is considered to be an outlier. Employees with a salary less than or equal to $1,840.78125 have an Annual Salary Amount that is considered an outlier\n"
     ]
    }
   ],
   "source": [
    "#Salary Outliers\n",
    "Salary_75 = EDA['Annual Salary Amount'].quantile(0.75) # <- 3rd quartile of salary amount\n",
    "Salary_25 = EDA['Annual Salary Amount'].quantile(0.25) # < - 1st quartile of salary amount\n",
    "Salary_IQR = Salary_75 - Salary_25 # <- Salary interquartile range\n",
    "\n",
    "Upper_Salary_Outlier = Salary_75 + (Salary_IQR * 1.5) # <- Outlier above 3rd quartile\n",
    "Lower_Salary_Outlier = Salary_25 - (Salary_IQR * 1.5) # <- Outlier below 1st quartile\n",
    "\n",
    "print('Employees with a salary greater than or eqaul to',f'${Upper_Salary_Outlier:,}', 'have an Annual Salary Amount that is considered to be an outlier. Employees with a salary less than or equal to',f'${Lower_Salary_Outlier:,}','have an Annual Salary Amount that is considered an outlier')"
   ]
  },
  {
   "cell_type": "code",
   "execution_count": 10,
   "id": "f9270f0a",
   "metadata": {},
   "outputs": [
    {
     "name": "stdout",
     "output_type": "stream",
     "text": [
      "An outlier is an employee that has been employed for greater than or equal to 9.91 years.\n"
     ]
    }
   ],
   "source": [
    "#Employment Length Outliers\n",
    "Emp_Length_75 = EDA['Employment Length (Years)'].quantile(0.75)# <- 3rd quartile of employment length\n",
    "Emp_Length_25 = EDA['Employment Length (Years)'].quantile(0.25)# <- 1st quartile of employment length\n",
    "Emp_Length_IQR = Emp_Length_75 - Emp_Length_25 # <- Employment length interquartile range\n",
    "\n",
    "Upper_Emp_Length_Outlier = round(Emp_Length_75 + (Emp_Length_IQR * 1.5),2) # <- Outlier above 3rd quartile\n",
    "Lower_Emp_Length_Outlier = round(Emp_Length_25 - (Emp_Length_IQR * 1.5),2) # <- Outlier below 1st quartile\n",
    "\n",
    "print('An outlier is an employee that has been employed for greater than or equal to',Upper_Emp_Length_Outlier,'years.')"
   ]
  },
  {
   "cell_type": "code",
   "execution_count": 11,
   "id": "701b86c2",
   "metadata": {},
   "outputs": [
    {
     "name": "stdout",
     "output_type": "stream",
     "text": [
      "There are 2 staff members that have an Annual Salary Amount that are considered to be outliers.\n"
     ]
    }
   ],
   "source": [
    "print('There are',EDA[(EDA['Annual Salary Amount'] >= Upper_Salary_Outlier) | (EDA['Annual Salary Amount']<= Lower_Salary_Outlier)].shape[0],'staff members that have an Annual Salary Amount that are considered to be outliers.')"
   ]
  },
  {
   "cell_type": "code",
   "execution_count": 12,
   "id": "3ef7ae7c",
   "metadata": {
    "scrolled": true
   },
   "outputs": [
    {
     "data": {
      "text/html": [
       "<div>\n",
       "<style scoped>\n",
       "    .dataframe tbody tr th:only-of-type {\n",
       "        vertical-align: middle;\n",
       "    }\n",
       "\n",
       "    .dataframe tbody tr th {\n",
       "        vertical-align: top;\n",
       "    }\n",
       "\n",
       "    .dataframe thead th {\n",
       "        text-align: right;\n",
       "    }\n",
       "</style>\n",
       "<table border=\"1\" class=\"dataframe\">\n",
       "  <thead>\n",
       "    <tr style=\"text-align: right;\">\n",
       "      <th></th>\n",
       "      <th>Position ID</th>\n",
       "      <th>Legal First Name</th>\n",
       "      <th>Legal Last Name</th>\n",
       "      <th>Annual Salary Amount</th>\n",
       "      <th>Start Date</th>\n",
       "      <th>Current Month</th>\n",
       "      <th>Employment Length (Years)</th>\n",
       "    </tr>\n",
       "  </thead>\n",
       "  <tbody>\n",
       "    <tr>\n",
       "      <th>8</th>\n",
       "      <td>33T000063</td>\n",
       "      <td>Sheria</td>\n",
       "      <td>McRae</td>\n",
       "      <td>187250.0</td>\n",
       "      <td>2010-08-02</td>\n",
       "      <td>2024-03-31</td>\n",
       "      <td>13.66</td>\n",
       "    </tr>\n",
       "    <tr>\n",
       "      <th>172</th>\n",
       "      <td>33T000671</td>\n",
       "      <td>Andre</td>\n",
       "      <td>Moore</td>\n",
       "      <td>175950.0</td>\n",
       "      <td>2023-01-30</td>\n",
       "      <td>2024-03-31</td>\n",
       "      <td>1.17</td>\n",
       "    </tr>\n",
       "  </tbody>\n",
       "</table>\n",
       "</div>"
      ],
      "text/plain": [
       "    Position ID Legal First Name Legal Last Name  Annual Salary Amount  \\\n",
       "8     33T000063           Sheria           McRae              187250.0   \n",
       "172   33T000671            Andre           Moore              175950.0   \n",
       "\n",
       "    Start Date Current Month  Employment Length (Years)  \n",
       "8   2010-08-02    2024-03-31                      13.66  \n",
       "172 2023-01-30    2024-03-31                       1.17  "
      ]
     },
     "execution_count": 12,
     "metadata": {},
     "output_type": "execute_result"
    }
   ],
   "source": [
    "#Employees with an Annual Salary Amount that are considered to be outliers in the dataset\n",
    "EDA[(EDA['Annual Salary Amount'] >= Upper_Salary_Outlier) | (EDA['Annual Salary Amount']<= Lower_Salary_Outlier)]"
   ]
  },
  {
   "cell_type": "code",
   "execution_count": 13,
   "id": "b57bfdfb",
   "metadata": {},
   "outputs": [
    {
     "name": "stdout",
     "output_type": "stream",
     "text": [
      "There are 12 staff members that have an Employment Length in years that is considered to be an outlier.\n"
     ]
    }
   ],
   "source": [
    "print('There are',EDA[EDA['Employment Length (Years)'] >= Upper_Emp_Length_Outlier].shape[0],'staff members that have an Employment Length in years that is considered to be an outlier.')"
   ]
  },
  {
   "cell_type": "code",
   "execution_count": 14,
   "id": "ceed996e",
   "metadata": {
    "scrolled": false
   },
   "outputs": [
    {
     "data": {
      "text/html": [
       "<div>\n",
       "<style scoped>\n",
       "    .dataframe tbody tr th:only-of-type {\n",
       "        vertical-align: middle;\n",
       "    }\n",
       "\n",
       "    .dataframe tbody tr th {\n",
       "        vertical-align: top;\n",
       "    }\n",
       "\n",
       "    .dataframe thead th {\n",
       "        text-align: right;\n",
       "    }\n",
       "</style>\n",
       "<table border=\"1\" class=\"dataframe\">\n",
       "  <thead>\n",
       "    <tr style=\"text-align: right;\">\n",
       "      <th></th>\n",
       "      <th>Position ID</th>\n",
       "      <th>Legal First Name</th>\n",
       "      <th>Legal Last Name</th>\n",
       "      <th>Annual Salary Amount</th>\n",
       "      <th>Start Date</th>\n",
       "      <th>Current Month</th>\n",
       "      <th>Employment Length (Years)</th>\n",
       "    </tr>\n",
       "  </thead>\n",
       "  <tbody>\n",
       "    <tr>\n",
       "      <th>21</th>\n",
       "      <td>33T000173</td>\n",
       "      <td>Thomas</td>\n",
       "      <td>Dougherty</td>\n",
       "      <td>93129.00</td>\n",
       "      <td>2013-07-29</td>\n",
       "      <td>2024-03-31</td>\n",
       "      <td>10.67</td>\n",
       "    </tr>\n",
       "    <tr>\n",
       "      <th>20</th>\n",
       "      <td>33T000142</td>\n",
       "      <td>Calvin</td>\n",
       "      <td>McRae</td>\n",
       "      <td>86900.00</td>\n",
       "      <td>2013-02-01</td>\n",
       "      <td>2024-03-31</td>\n",
       "      <td>11.16</td>\n",
       "    </tr>\n",
       "    <tr>\n",
       "      <th>19</th>\n",
       "      <td>33T000140</td>\n",
       "      <td>Vianney</td>\n",
       "      <td>Anzures</td>\n",
       "      <td>86900.00</td>\n",
       "      <td>2013-01-02</td>\n",
       "      <td>2024-03-31</td>\n",
       "      <td>11.24</td>\n",
       "    </tr>\n",
       "    <tr>\n",
       "      <th>18</th>\n",
       "      <td>33T000139</td>\n",
       "      <td>Damien</td>\n",
       "      <td>Castagne</td>\n",
       "      <td>95220.00</td>\n",
       "      <td>2012-12-03</td>\n",
       "      <td>2024-03-31</td>\n",
       "      <td>11.32</td>\n",
       "    </tr>\n",
       "    <tr>\n",
       "      <th>17</th>\n",
       "      <td>33T000120</td>\n",
       "      <td>Kali</td>\n",
       "      <td>Erstein</td>\n",
       "      <td>93129.00</td>\n",
       "      <td>2012-07-30</td>\n",
       "      <td>2024-03-31</td>\n",
       "      <td>11.67</td>\n",
       "    </tr>\n",
       "    <tr>\n",
       "      <th>16</th>\n",
       "      <td>33T000114</td>\n",
       "      <td>Barbara</td>\n",
       "      <td>Zjawin</td>\n",
       "      <td>98648.00</td>\n",
       "      <td>2012-07-02</td>\n",
       "      <td>2024-03-31</td>\n",
       "      <td>11.75</td>\n",
       "    </tr>\n",
       "    <tr>\n",
       "      <th>14</th>\n",
       "      <td>33T000092</td>\n",
       "      <td>Isabel</td>\n",
       "      <td>Goss</td>\n",
       "      <td>125000.00</td>\n",
       "      <td>2011-08-01</td>\n",
       "      <td>2024-03-31</td>\n",
       "      <td>12.67</td>\n",
       "    </tr>\n",
       "    <tr>\n",
       "      <th>15</th>\n",
       "      <td>33T000094</td>\n",
       "      <td>Alice</td>\n",
       "      <td>Lubrano-Weiss</td>\n",
       "      <td>96389.00</td>\n",
       "      <td>2011-08-01</td>\n",
       "      <td>2024-03-31</td>\n",
       "      <td>12.67</td>\n",
       "    </tr>\n",
       "    <tr>\n",
       "      <th>10</th>\n",
       "      <td>33T000079</td>\n",
       "      <td>Jacqueline</td>\n",
       "      <td>Hicks-Martinez</td>\n",
       "      <td>70366.55</td>\n",
       "      <td>2011-05-16</td>\n",
       "      <td>2024-03-31</td>\n",
       "      <td>12.88</td>\n",
       "    </tr>\n",
       "    <tr>\n",
       "      <th>8</th>\n",
       "      <td>33T000063</td>\n",
       "      <td>Sheria</td>\n",
       "      <td>McRae</td>\n",
       "      <td>187250.00</td>\n",
       "      <td>2010-08-02</td>\n",
       "      <td>2024-03-31</td>\n",
       "      <td>13.66</td>\n",
       "    </tr>\n",
       "    <tr>\n",
       "      <th>9</th>\n",
       "      <td>33T000068</td>\n",
       "      <td>Christian</td>\n",
       "      <td>Torino</td>\n",
       "      <td>96389.00</td>\n",
       "      <td>2010-08-02</td>\n",
       "      <td>2024-03-31</td>\n",
       "      <td>13.66</td>\n",
       "    </tr>\n",
       "    <tr>\n",
       "      <th>7</th>\n",
       "      <td>33T000055</td>\n",
       "      <td>Johanna</td>\n",
       "      <td>Soto</td>\n",
       "      <td>102100.68</td>\n",
       "      <td>2009-08-31</td>\n",
       "      <td>2024-03-31</td>\n",
       "      <td>14.58</td>\n",
       "    </tr>\n",
       "  </tbody>\n",
       "</table>\n",
       "</div>"
      ],
      "text/plain": [
       "   Position ID Legal First Name Legal Last Name  Annual Salary Amount  \\\n",
       "21   33T000173           Thomas       Dougherty              93129.00   \n",
       "20   33T000142           Calvin           McRae              86900.00   \n",
       "19   33T000140          Vianney         Anzures              86900.00   \n",
       "18   33T000139           Damien        Castagne              95220.00   \n",
       "17   33T000120             Kali         Erstein              93129.00   \n",
       "16   33T000114          Barbara          Zjawin              98648.00   \n",
       "14   33T000092           Isabel            Goss             125000.00   \n",
       "15   33T000094            Alice   Lubrano-Weiss              96389.00   \n",
       "10   33T000079       Jacqueline  Hicks-Martinez              70366.55   \n",
       "8    33T000063           Sheria           McRae             187250.00   \n",
       "9    33T000068        Christian          Torino              96389.00   \n",
       "7    33T000055          Johanna            Soto             102100.68   \n",
       "\n",
       "   Start Date Current Month  Employment Length (Years)  \n",
       "21 2013-07-29    2024-03-31                      10.67  \n",
       "20 2013-02-01    2024-03-31                      11.16  \n",
       "19 2013-01-02    2024-03-31                      11.24  \n",
       "18 2012-12-03    2024-03-31                      11.32  \n",
       "17 2012-07-30    2024-03-31                      11.67  \n",
       "16 2012-07-02    2024-03-31                      11.75  \n",
       "14 2011-08-01    2024-03-31                      12.67  \n",
       "15 2011-08-01    2024-03-31                      12.67  \n",
       "10 2011-05-16    2024-03-31                      12.88  \n",
       "8  2010-08-02    2024-03-31                      13.66  \n",
       "9  2010-08-02    2024-03-31                      13.66  \n",
       "7  2009-08-31    2024-03-31                      14.58  "
      ]
     },
     "execution_count": 14,
     "metadata": {},
     "output_type": "execute_result"
    }
   ],
   "source": [
    "#Employees that have an Employment Length (Years) that is considered to be an outlier\n",
    "EDA[EDA['Employment Length (Years)'] >= Upper_Emp_Length_Outlier].sort_values(by = 'Employment Length (Years)')"
   ]
  }
 ],
 "metadata": {
  "kernelspec": {
   "display_name": "Python 3 (ipykernel)",
   "language": "python",
   "name": "python3"
  },
  "language_info": {
   "codemirror_mode": {
    "name": "ipython",
    "version": 3
   },
   "file_extension": ".py",
   "mimetype": "text/x-python",
   "name": "python",
   "nbconvert_exporter": "python",
   "pygments_lexer": "ipython3",
   "version": "3.10.9"
  }
 },
 "nbformat": 4,
 "nbformat_minor": 5
}
